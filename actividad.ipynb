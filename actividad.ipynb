{
 "cells": [
  {
   "cell_type": "markdown",
   "id": "498731c6",
   "metadata": {},
   "source": [
    "# Actividad - Trabajando con Series de Pandas.\n",
    "## Criterios de evaluación.\n",
    "\n",
    "* Se deben utilizar nombres de variables descriptivos y claros (Utilizar la nomeclatura correspondiente para los nombres de variables).\n",
    "* Comentarios claros y concisos que expliquen el propósito de cada sección del código.\n",
    "* Utilizar mensajes de commit **descriptivos**. (Puedes utilizar la extension CONVENTIONAL COMMIT de VS-CODE). \n",
    "* Entrega en tiempo y forma.\n",
    "* Todo el código desarrollado debe ser subido a un repositorio en GitHub (el nombre del repositorio de seguir la siguiente estructura: actividad_tlp3_nombre_apellido).\n",
    "* Para resolver las actividades se debe insertar casillas de codigo entre cada actividad del cuaderno de Jupyter\n",
    "\n",
    "### ¡Importante!\n",
    "**El incumplimiento de los criterios de evaluación restará puntos en la nota final del práctico!**"
   ]
  },
  {
   "cell_type": "markdown",
   "id": "b361a7b6",
   "metadata": {},
   "source": [
    "### **Actividad 1:** \n",
    "\n",
    "Crear Series desde diferentes estructuras.\n",
    "* Crea una Series con los números del 1 al 5\n",
    "* Crea una Series a partir de un diccionario con nombres de países como claves y sus capitales como valores."
   ]
  },
  {
   "cell_type": "code",
   "execution_count": null,
   "id": "26009294",
   "metadata": {},
   "outputs": [
    {
     "name": "stdout",
     "output_type": "stream",
     "text": [
      "0    1\n",
      "1    2\n",
      "2    3\n",
      "3    4\n",
      "4    5\n",
      "dtype: int64\n"
     ]
    }
   ],
   "source": [
    "\n",
    "# todo:\n",
    "import pandas as pd\n",
    "\n",
    "# Crea una serie con los números del 1 al 5\n",
    "serie = pd.Series([1, 2, 3, 4, 5])\n",
    "\n",
    "# Muestra la serie\n",
    "print(serie)\n"
   ]
  },
  {
   "cell_type": "code",
   "execution_count": 2,
   "id": "c239e30e",
   "metadata": {},
   "outputs": [
    {
     "name": "stdout",
     "output_type": "stream",
     "text": [
      "Argentina        Buenos Aires\n",
      "Brasil               Brasilia\n",
      "Canadá                 Ottawa\n",
      "España                 Madrid\n",
      "México       Ciudad de México\n",
      "dtype: object\n"
     ]
    }
   ],
   "source": [
    "\n",
    "\n",
    "# Diccionario con países como claves y capitales como valores\n",
    "pais_capital = {\n",
    "    'Argentina': 'Buenos Aires',\n",
    "    'Brasil': 'Brasilia',\n",
    "    'Canadá': 'Ottawa',\n",
    "    'España': 'Madrid',\n",
    "    'México': 'Ciudad de México'\n",
    "}\n",
    "\n",
    "# Crea la Series\n",
    "serie_pais_capital = pd.Series(pais_capital)\n",
    "\n",
    "# muestar la Serie\n",
    "print(serie_pais_capital)\n"
   ]
  },
  {
   "cell_type": "markdown",
   "id": "0c239195",
   "metadata": {},
   "source": [
    "### **Actividad 2:** \n",
    "Acceso y selección de elementos.\n",
    "* Usa una Series con tareas (que haceres cotidianos) de una semana\n",
    "* Accede a diferentes elementos a elección.\n",
    "* Cambia los valores de los dias pares.\n"
   ]
  },
  {
   "cell_type": "code",
   "execution_count": 3,
   "id": "3611d25a",
   "metadata": {},
   "outputs": [
    {
     "name": "stdout",
     "output_type": "stream",
     "text": [
      "Tareas de la semana:\n",
      "Lunes               Ir al gimnasio\n",
      "Martes       Estudiar programación\n",
      "Miércoles            hacer compras\n",
      "Jueves               Lavar la ropa\n",
      "Viernes          Jugar videojuegos\n",
      "Sábado             Salir a caminar\n",
      "Domingo                   Descanso\n",
      "dtype: object\n",
      "\n",
      "Tarea del Lunes: Ir al gimnasio\n",
      "Tarea del Viernes: Jugar videojuegos\n",
      "\n",
      "Tarea del Miércoles (índice 2): hacer compras\n",
      "\n",
      "Tareas de la semana después de modificar los días pares:\n",
      "Lunes           Ir al gimnasio\n",
      "Martes           Leer un libro\n",
      "Miércoles        hacer compras\n",
      "Jueves        Ver una película\n",
      "Viernes      Jugar videojuegos\n",
      "Sábado              ir a cenar\n",
      "Domingo               Descanso\n",
      "dtype: object\n"
     ]
    },
    {
     "name": "stderr",
     "output_type": "stream",
     "text": [
      "C:\\Users\\IPF-2025\\AppData\\Local\\Temp\\ipykernel_5280\\2487258927.py:26: FutureWarning: Series.__getitem__ treating keys as positions is deprecated. In a future version, integer keys will always be treated as labels (consistent with DataFrame behavior). To access a value by position, use `ser.iloc[pos]`\n",
      "  print(\"\\nTarea del Miércoles (índice 2):\", serie_tareas[2])\n"
     ]
    }
   ],
   "source": [
    "\n",
    "# todo:\n",
    "\n",
    "# Diccionario con días de la semana como claves y tareas como valores\n",
    "tareas = {\n",
    "    'Lunes': 'Ir al gimnasio',\n",
    "    'Martes': 'Estudiar programación',\n",
    "    'Miércoles': 'hacer compras',\n",
    "    'Jueves': 'Lavar la ropa',\n",
    "    'Viernes': 'Jugar videojuegos',\n",
    "    'Sábado': 'Salir a caminar',\n",
    "    'Domingo': 'Descanso'\n",
    "}\n",
    "\n",
    "# Crea la Serie\n",
    "serie_tareas = pd.Series(tareas)\n",
    "\n",
    "# Muestra la Serie inicial\n",
    "print(\"Tareas de la semana:\")\n",
    "print(serie_tareas)\n",
    "\n",
    "# Accede a los elementos específicos\n",
    "print(\"\\nTarea del Lunes:\", serie_tareas['Lunes'])\n",
    "print(\"Tarea del Viernes:\", serie_tareas['Viernes'])\n",
    "\n",
    "# Accede por la psición (índice)\n",
    "print(\"\\nTarea del Miércoles (índice 2):\", serie_tareas[2])\n",
    "\n",
    "# Cambia las tareas de los días pares (Martes, Jueves, Sábado)\n",
    "serie_tareas['Martes'] = 'Leer un libro'\n",
    "serie_tareas['Jueves'] = 'Ver una película'\n",
    "serie_tareas['Sábado'] = 'ir a cenar'\n",
    "\n",
    "# Mueta la Serie después de los cambios\n",
    "print(\"\\nTareas de la semana después de modificar los días pares:\")\n",
    "print(serie_tareas)\n"
   ]
  },
  {
   "cell_type": "markdown",
   "id": "70a24b97",
   "metadata": {},
   "source": [
    "### **Actividad 3:**\n",
    "Operaciones aritméticas. \n",
    "* Realiza las operaciones basicas con 2 series cuales quieran.\n",
    "* Eleva los valores de la primer serie a 3 potencias difetentes."
   ]
  },
  {
   "cell_type": "code",
   "execution_count": null,
   "id": "a9c8ebc7",
   "metadata": {},
   "outputs": [
    {
     "name": "stdout",
     "output_type": "stream",
     "text": [
      "Serie 1:\n",
      "0     2\n",
      "1     4\n",
      "2     6\n",
      "3     8\n",
      "4    10\n",
      "dtype: int64\n",
      "\n",
      "Serie 2:\n",
      "0    1\n",
      "1    3\n",
      "2    5\n",
      "3    7\n",
      "4    9\n",
      "dtype: int64\n"
     ]
    }
   ],
   "source": [
    "\n",
    "# todo:\n",
    "\n",
    "\n",
    "# Crea dos Series con números aleatorios\n",
    "serie1 = pd.Series([2, 4, 6, 8, 10])\n",
    "serie2 = pd.Series([1, 3, 5, 7, 9])\n",
    "\n",
    "# Muestra las Series\n",
    "print(\"Serie 1:\")\n",
    "print(serie1)\n",
    "\n",
    "print(\"\\nSerie 2:\")\n",
    "print(serie2)\n"
   ]
  },
  {
   "cell_type": "markdown",
   "id": "b8dac397",
   "metadata": {},
   "source": [
    "### **Actividad 4:** \n",
    "Filtrado con condiciones.\n",
    "* Crea una Series de edades de 10 personas.\n",
    "* Muestra solo a los mayores de 18.\n",
    "* Reemplaza a los menores por \"Menor de edad\"."
   ]
  },
  {
   "cell_type": "code",
   "execution_count": null,
   "id": "d04fd492",
   "metadata": {},
   "outputs": [],
   "source": [
    "\n",
    "# todo:"
   ]
  },
  {
   "cell_type": "markdown",
   "id": "8889d0f2",
   "metadata": {},
   "source": [
    "### Actividad 5:\n",
    "Estadísticas básicas.\n",
    "\n",
    "* Crea una Series con las notas de 10 estudiantes.\n",
    "* Calcula la media, mediana, desviación estándar y máximo.\n",
    "* Muestra cuántos estudiantes aprobaron si el mínimo para aprobar es 6.\n",
    "* Ordenar las notas de manera ascendente y descendente. "
   ]
  },
  {
   "cell_type": "code",
   "execution_count": null,
   "id": "bc0ec844",
   "metadata": {},
   "outputs": [],
   "source": [
    "\n",
    "# todo:\n"
   ]
  }
 ],
 "metadata": {
  "kernelspec": {
   "display_name": ".venv",
   "language": "python",
   "name": "python3"
  },
  "language_info": {
   "codemirror_mode": {
    "name": "ipython",
    "version": 3
   },
   "file_extension": ".py",
   "mimetype": "text/x-python",
   "name": "python",
   "nbconvert_exporter": "python",
   "pygments_lexer": "ipython3",
   "version": "3.12.9"
  }
 },
 "nbformat": 4,
 "nbformat_minor": 5
}
